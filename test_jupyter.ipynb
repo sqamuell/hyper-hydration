{
 "cells": [
  {
   "cell_type": "code",
   "execution_count": 11,
   "metadata": {},
   "outputs": [
    {
     "name": "stdout",
     "output_type": "stream",
     "text": [
      "90\n"
     ]
    }
   ],
   "source": [
    "L = [\n",
    "    \n",
    "0.140684,0.760741,0.933472,0.084568,0.496753,0.400057,0.693090,0.368861,0.094647,0.455723,0.889739,0.461445,0.492464,0.534512,0.269906,0.122171,0.426226,0.124326,0.366223,0.333676,0.487603,0.466401,0.610025,0.730642,0.382229,0.456510,0.921313,0.905127,0.079812,0.966287\n",
    "\n",
    "]\n",
    "\n",
    "for i, item in enumerate(L):\n",
    "    print('\"dim' + str(i) + '\": ' + str(item) + \",\")"
   ]
  }
 ],
 "metadata": {
  "kernelspec": {
   "display_name": "Python 3",
   "language": "python",
   "name": "python3"
  },
  "language_info": {
   "codemirror_mode": {
    "name": "ipython",
    "version": 3
   },
   "file_extension": ".py",
   "mimetype": "text/x-python",
   "name": "python",
   "nbconvert_exporter": "python",
   "pygments_lexer": "ipython3",
   "version": "3.10.11"
  },
  "orig_nbformat": 4
 },
 "nbformat": 4,
 "nbformat_minor": 2
}
